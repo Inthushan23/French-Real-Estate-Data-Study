{
 "cells": [
  {
   "cell_type": "markdown",
   "metadata": {},
   "source": [
    "<div style=\"text-align: center; padding: 40px; background-color: #f4f4f4; border-radius: 10px;\">\n",
    "    <span style=\"font-size: 30px; font-weight: bold; text-decoration: underline; color: #333;\">\n",
    "        French Real Estate: Data Study\n",
    "    </span>\n",
    "</div>\n",
    "\n",
    "<div style=\"text-align: center; font-size: 22px; line-height: 1.8; color: #555; margin-top: 20px;\">\n",
    "    SUTHAKARAN Inthushan<br>\n",
    "    2024/2025\n",
    "    \n",
    "</div>\n",
    "\n",
    "<hr style=\"border: 1px solid #ddd; width: 80%; margin-top: 40px;\">\n"
   ]
  },
  {
   "cell_type": "markdown",
   "metadata": {},
   "source": [
    "# Project overview\n",
    "In this project, we will be analysing property data from the `data.gouv.fr` platform in order to derive useful information for a property investor. To do this, we are going to use the data science skills we acquired during our training.\n",
    "\n",
    "In this project, we will focus on the five most attractive departments in France, analyzing property value data from 2019 to 2024.\n",
    "\n",
    "---\n",
    "\n",
    "The project will be structured as follows:\n",
    "\n",
    "1.  **Project Initialization**\n",
    "2. **Data Mining**\n",
    "3. **Visualisation**\n",
    "4. **Conclusion and Recommendations**\n",
    "\n",
    "---"
   ]
  },
  {
   "cell_type": "markdown",
   "metadata": {},
   "source": [
    "## 1. Project Initialization: Data Cleaning and Preparation\n",
    "\n",
    "\n",
    "<p style=\"text-align: left; color: #555; font-size: 16px;\">\n",
    "    In this section, we will import the necessary Python libraries essential for the project. We will then proceed with loading, cleaning, and preparing the data to ensure it is ready for comprehensive analysis and utilization.\n",
    "\n",
    "\n",
    "</p>\n"
   ]
  },
  {
   "cell_type": "markdown",
   "metadata": {},
   "source": [
    "### 1.1. Installing and Importing Essential Libraries\n",
    "\n"
   ]
  },
  {
   "cell_type": "code",
   "execution_count": null,
   "metadata": {},
   "outputs": [],
   "source": [
    "# Installing the libraries needed for data analysis\n",
    "\n",
    "!pip install ipywidgets widgetsnbextension --upgrade"
   ]
  },
  {
   "cell_type": "code",
   "execution_count": 26,
   "metadata": {},
   "outputs": [],
   "source": [
    "# Importing necessary libraries for the project\n",
    "import numpy as np\n",
    "import pandas as pd\n",
    "import matplotlib.pyplot as plt\n",
    "from ipywidgets import interact, IntSlider, Dropdown\n",
    "import seaborn as sns"
   ]
  },
  {
   "cell_type": "markdown",
   "metadata": {},
   "source": [
    "### 1.2. Data Cleaning\n",
    "<p style=\"text-align: left; color: #555; font-size: 16px;\">\n",
    "In this section, we will present the data cleaning process performed on the entire file.\n",
    "</p>\n"
   ]
  },
  {
   "cell_type": "code",
   "execution_count": 27,
   "metadata": {},
   "outputs": [],
   "source": [
    "# Loading the file '31_2019.csv' into a DataFrame\n",
    "df = pd.read_csv(\"../Data/datavis_data/data_vis_departments/31/31_2019.csv\", low_memory = False)"
   ]
  },
  {
   "cell_type": "markdown",
   "metadata": {},
   "source": [
    "<p style=\"text-align: left; color: #555; font-size: 16px;\">\n",
    "To begin cleaning up the file, we will first look at the number of missing values.\n",
    "</p>\n"
   ]
  },
  {
   "cell_type": "code",
   "execution_count": 28,
   "metadata": {},
   "outputs": [
    {
     "name": "stdout",
     "output_type": "stream",
     "text": [
      "Shape: (42763, 40)\n",
      "Count of Missing Values:\n",
      "id_mutation                         0\n",
      "date_mutation                       0\n",
      "numero_disposition                  0\n",
      "nature_mutation                     0\n",
      "valeur_fonciere                    69\n",
      "adresse_numero                  12869\n",
      "adresse_suffixe                 40389\n",
      "adresse_nom_voie                  600\n",
      "adresse_code_voie                 600\n",
      "code_postal                       601\n",
      "code_commune                        0\n",
      "nom_commune                         0\n",
      "code_departement                    0\n",
      "ancien_code_commune             42763\n",
      "ancien_nom_commune              42763\n",
      "id_parcelle                         0\n",
      "ancien_id_parcelle              42763\n",
      "numero_volume                   42693\n",
      "lot1_numero                     20981\n",
      "lot1_surface_carrez             38655\n",
      "lot2_numero                     39605\n",
      "lot2_surface_carrez             41982\n",
      "lot3_numero                     42165\n",
      "lot3_surface_carrez             42672\n",
      "lot4_numero                     42643\n",
      "lot4_surface_carrez             42749\n",
      "lot5_numero                     42718\n",
      "lot5_surface_carrez             42759\n",
      "nombre_lots                         0\n",
      "code_type_local                 18315\n",
      "type_local                      18315\n",
      "surface_reelle_bati             25758\n",
      "nombre_pieces_principales       18341\n",
      "code_nature_culture             21994\n",
      "nature_culture                  21994\n",
      "code_nature_culture_speciale    41285\n",
      "nature_culture_speciale         41285\n",
      "surface_terrain                 21994\n",
      "longitude                        1779\n",
      "latitude                         1779\n",
      "dtype: int64\n"
     ]
    }
   ],
   "source": [
    "# Displays the dimensions of the DataFrame\n",
    "print(\"Shape:\", df.shape)\n",
    "\n",
    "print(\"Count of Missing Values:\")\n",
    "# Displays the number of missing values ​​per column\n",
    "print(df.isna().sum())\n"
   ]
  },
  {
   "cell_type": "markdown",
   "metadata": {},
   "source": [
    " <p style=\"text-align: left; color: #555; font-size: 16px;\">\n",
    "We remove rows from columns for which it is not possible to replace missing values ​​with a median, mode, or any other value, in order to maintain optimal precision.\n",
    "</p>\n"
   ]
  },
  {
   "cell_type": "code",
   "execution_count": 29,
   "metadata": {},
   "outputs": [],
   "source": [
    "df = df.dropna(subset=[\"adresse_numero\", \"type_local\", \"code_type_local\", \"longitude\", \"latitude\", \"valeur_fonciere\", \"adresse_nom_voie\", \"code_postal\"])"
   ]
  },
  {
   "cell_type": "markdown",
   "metadata": {},
   "source": [
    " <p style=\"text-align: left; color: #555; font-size: 16px;\">\n",
    "We remove columns with too many missing values, as well as those we do not wish to keep for the study, in order to lighten the dataset.\n",
    "</p>\n"
   ]
  },
  {
   "cell_type": "code",
   "execution_count": 30,
   "metadata": {},
   "outputs": [],
   "source": [
    "df = df.drop(columns = [\"ancien_code_commune\",\"ancien_nom_commune\", \"ancien_id_parcelle\", \"numero_volume\", \"code_nature_culture\", \"nature_culture\", \"code_nature_culture_speciale\", \"nature_culture_speciale\"])\n",
    "df = df.drop(columns = df.loc[:, \"lot1_numero\":\"lot5_surface_carrez\"].columns)"
   ]
  },
  {
   "cell_type": "markdown",
   "metadata": {},
   "source": [
    "<p style=\"text-align: left; color: #555; font-size: 16px;\">\n",
    "After performing the above operations, there are only 4 columns with missing values: <strong>address_suffixe</strong>, <strong>surface_reelle_bati</strong>, <strong>nombre_rooms_principales</strong>, and <strong>surface_terrain</strong>. We can now proceed to replace these values. Since not all properties systematically have an address suffix, we can replace the missing values ​​with \"None\".\n",
    "</p>\n"
   ]
  },
  {
   "cell_type": "code",
   "execution_count": 31,
   "metadata": {},
   "outputs": [],
   "source": [
    "df[\"adresse_suffixe\"] = df[\"adresse_suffixe\"].fillna(\"None\")"
   ]
  },
  {
   "cell_type": "markdown",
   "metadata": {},
   "source": [
    "<p style=\"text-align: left; color: #555; font-size: 16px;\">\n",
    "A symmetric distribution indicates that the data is evenly spread around the mean, making the mean a suitable choice for replacing missing values. In contrast, in an asymmetric distribution, extreme values have a significant impact. Since the median is less sensitive to outliers, it is a more appropriate choice for replacing missing values.\n",
    "</p>"
   ]
  },
  {
   "cell_type": "code",
   "execution_count": 32,
   "metadata": {},
   "outputs": [
    {
     "name": "stdout",
     "output_type": "stream",
     "text": [
      "Shape: (23264, 22)\n",
      "Count of Missing Values:\n",
      "id_mutation                      0\n",
      "date_mutation                    0\n",
      "numero_disposition               0\n",
      "nature_mutation                  0\n",
      "valeur_fonciere                  0\n",
      "adresse_numero                   0\n",
      "adresse_suffixe                  0\n",
      "adresse_nom_voie                 0\n",
      "adresse_code_voie                0\n",
      "code_postal                      0\n",
      "code_commune                     0\n",
      "nom_commune                      0\n",
      "code_departement                 0\n",
      "id_parcelle                      0\n",
      "nombre_lots                      0\n",
      "code_type_local                  0\n",
      "type_local                       0\n",
      "surface_reelle_bati           7159\n",
      "nombre_pieces_principales       24\n",
      "surface_terrain              14909\n",
      "longitude                        0\n",
      "latitude                         0\n",
      "dtype: int64\n"
     ]
    }
   ],
   "source": [
    "# Displays the dimensions of the DataFrame\n",
    "print(\"Shape:\", df.shape)\n",
    "\n",
    "print(\"Count of Missing Values:\")\n",
    "# Displays the number of missing values ​​per column\n",
    "print(df.isna().sum())\n"
   ]
  },
  {
   "cell_type": "code",
   "execution_count": 33,
   "metadata": {},
   "outputs": [
    {
     "data": {
      "image/png": "[encoded data removed]",
      "text/plain": [
       "<Figure size 640x480 with 1 Axes>"
      ]
     },
     "metadata": {},
     "output_type": "display_data"
    },
    {
     "data": {
      "image/png": "[encoded data removed]",
      "text/plain": [
       "<Figure size 640x480 with 1 Axes>"
      ]
     },
     "metadata": {},
     "output_type": "display_data"
    },
    {
     "data": {
      "image/png": "[encoded data removed]",
      "text/plain": [
       "<Figure size 640x480 with 1 Axes>"
      ]
     },
     "metadata": {},
     "output_type": "display_data"
    }
   ],
   "source": [
    "# Plot the histogram to see if the distribution of the variables is symmetrical or not\n",
    "num_var = [\"surface_reelle_bati\", \"surface_terrain\", \"nombre_pieces_principales\"]\n",
    "for i in num_var:\n",
    "    plt.figure()\n",
    "    df[i].hist(bins=30)\n",
    "    plt.title(\"Distribution of \" + i)\n",
    "    plt.show()"
   ]
  },
  {
   "cell_type": "code",
   "execution_count": 34,
   "metadata": {},
   "outputs": [],
   "source": [
    "# The missing values ​​in the following columns are replaced by the median. We can observe from the histograms previously plotted that their distributions are asymmetrical\n",
    "df[\"surface_reelle_bati\"] = df[\"surface_reelle_bati\"].fillna(df[\"surface_reelle_bati\"].median())\n",
    "df[\"surface_terrain\"] = df[\"surface_terrain\"].fillna(df[\"surface_terrain\"].median())\n",
    "df[\"nombre_pieces_principales\"] = df[\"nombre_pieces_principales\"].fillna(df[\"nombre_pieces_principales\"].median())"
   ]
  },
  {
   "cell_type": "markdown",
   "metadata": {},
   "source": [
    "<p style=\"text-align: left; color: #555; font-size: 16px;\">\n",
    "Now we can remove duplicate rows. This is done last, because new duplicates may appear when deleting some columns.\n",
    "</p>"
   ]
  },
  {
   "cell_type": "code",
   "execution_count": 35,
   "metadata": {},
   "outputs": [],
   "source": [
    "df = df.drop_duplicates(keep = \"first\")"
   ]
  },
  {
   "cell_type": "markdown",
   "metadata": {},
   "source": [
    "<p style=\"text-align: left; color: #555; font-size: 16px;\">\n",
    "The dataframe has been cleaned: it no longer contains missing values ​​or duplicate rows.\n",
    "</p>\n",
    "  "
   ]
  },
  {
   "cell_type": "code",
   "execution_count": 36,
   "metadata": {},
   "outputs": [
    {
     "name": "stdout",
     "output_type": "stream",
     "text": [
      "Shape: (20638, 22)\n",
      "Number of Duplicated Rows: 0\n",
      "Count of Missing Values:\n",
      "id_mutation                  0\n",
      "date_mutation                0\n",
      "numero_disposition           0\n",
      "nature_mutation              0\n",
      "valeur_fonciere              0\n",
      "adresse_numero               0\n",
      "adresse_suffixe              0\n",
      "adresse_nom_voie             0\n",
      "adresse_code_voie            0\n",
      "code_postal                  0\n",
      "code_commune                 0\n",
      "nom_commune                  0\n",
      "code_departement             0\n",
      "id_parcelle                  0\n",
      "nombre_lots                  0\n",
      "code_type_local              0\n",
      "type_local                   0\n",
      "surface_reelle_bati          0\n",
      "nombre_pieces_principales    0\n",
      "surface_terrain              0\n",
      "longitude                    0\n",
      "latitude                     0\n",
      "dtype: int64\n"
     ]
    }
   ],
   "source": [
    "# Displays the dimensions of the DataFrame\n",
    "print(\"Shape:\", df.shape)\n",
    "\n",
    "# Displays the number of duplicate lines\n",
    "print(\"Number of Duplicated Rows:\", df.duplicated(keep = \"first\").sum())\n",
    "\n",
    "print(\"Count of Missing Values:\")\n",
    "# Displays the number of missing values ​​per column\n",
    "print(df.isna().sum())\n"
   ]
  },
  {
   "cell_type": "markdown",
   "metadata": {},
   "source": [
    "<p style=\"text-align: left; color: #555; font-size: 16px;\">\n",
    "    Modification of the type of the <strong>date_mutation</strong> column from the object type to the date type, in order to facilitate temporal manipulations.\n",
    "</p>\n",
    "  \n",
    ">"
   ]
  },
  {
   "cell_type": "code",
   "execution_count": 37,
   "metadata": {},
   "outputs": [],
   "source": [
    "df[\"date_mutation\"] = pd.to_datetime(df[\"date_mutation\"], format=\"%Y-%m-%d\")"
   ]
  },
  {
   "cell_type": "code",
   "execution_count": 38,
   "metadata": {},
   "outputs": [
    {
     "name": "stdout",
     "output_type": "stream",
     "text": [
      "<class 'pandas.core.frame.DataFrame'>\n",
      "Index: 20638 entries, 0 to 42759\n",
      "Data columns (total 22 columns):\n",
      " #   Column                     Non-Null Count  Dtype         \n",
      "---  ------                     --------------  -----         \n",
      " 0   id_mutation                20638 non-null  object        \n",
      " 1   date_mutation              20638 non-null  datetime64[ns]\n",
      " 2   numero_disposition         20638 non-null  int64         \n",
      " 3   nature_mutation            20638 non-null  object        \n",
      " 4   valeur_fonciere            20638 non-null  float64       \n",
      " 5   adresse_numero             20638 non-null  float64       \n",
      " 6   adresse_suffixe            20638 non-null  object        \n",
      " 7   adresse_nom_voie           20638 non-null  object        \n",
      " 8   adresse_code_voie          20638 non-null  object        \n",
      " 9   code_postal                20638 non-null  float64       \n",
      " 10  code_commune               20638 non-null  int64         \n",
      " 11  nom_commune                20638 non-null  object        \n",
      " 12  code_departement           20638 non-null  int64         \n",
      " 13  id_parcelle                20638 non-null  object        \n",
      " 14  nombre_lots                20638 non-null  int64         \n",
      " 15  code_type_local            20638 non-null  float64       \n",
      " 16  type_local                 20638 non-null  object        \n",
      " 17  surface_reelle_bati        20638 non-null  float64       \n",
      " 18  nombre_pieces_principales  20638 non-null  float64       \n",
      " 19  surface_terrain            20638 non-null  float64       \n",
      " 20  longitude                  20638 non-null  float64       \n",
      " 21  latitude                   20638 non-null  float64       \n",
      "dtypes: datetime64[ns](1), float64(9), int64(4), object(8)\n",
      "memory usage: 3.6+ MB\n",
      "None\n"
     ]
    }
   ],
   "source": [
    "# We can display information about the DataFrame after all the modifications\n",
    "print(df.info())"
   ]
  },
  {
   "cell_type": "markdown",
   "metadata": {},
   "source": [
    "### 1.3. Process Automation\n",
    "<p style=\"text-align: left; color: #555; font-size: 16px;\">\n",
    "In this section, we will consolidate all the previous steps into a single function, which we will apply to all the files before saving them into a new CSV file.\n",
    "</p>\n"
   ]
  },
  {
   "cell_type": "code",
   "execution_count": 39,
   "metadata": {},
   "outputs": [],
   "source": [
    "def clean_transform_dataframe(df):\n",
    "    # Drop rows with missing important information\n",
    "    df = df.dropna(subset=[\"adresse_numero\", \"type_local\", \"code_type_local\", \"longitude\", \"latitude\", \"valeur_fonciere\", \"adresse_nom_voie\", \"code_postal\"])\n",
    "    \n",
    "    # Drop unnecessary columns that won't be used in analysis\n",
    "    df = df.drop(columns = df.loc[:, \"lot1_numero\":\"lot5_surface_carrez\"].columns)\n",
    "    df = df.drop(columns = [\"ancien_code_commune\",\"ancien_nom_commune\", \"ancien_id_parcelle\", \"numero_volume\", \"code_nature_culture\", \"nature_culture\", \"code_nature_culture_speciale\", \"nature_culture_speciale\"])\n",
    "    \n",
    "    # Replace missing address suffix with \"None\"\n",
    "    df[\"adresse_suffixe\"] = df[\"adresse_suffixe\"].fillna(\"Aucune\")\n",
    "    \n",
    "    \n",
    "    # Replace missing values in building and land surface with the median value\n",
    "    df[\"surface_reelle_bati\"] = df[\"surface_reelle_bati\"].fillna(df[\"surface_reelle_bati\"].median())\n",
    "    df[\"surface_terrain\"] = df[\"surface_terrain\"].fillna(df[\"surface_terrain\"].median())\n",
    "    \n",
    "    # Replace missing values with the median \n",
    "    df[\"nombre_pieces_principales\"] = df[\"nombre_pieces_principales\"].fillna(df[\"nombre_pieces_principales\"].median())\n",
    "\n",
    "    # Remove duplicate rows\n",
    "    df = df.drop_duplicates(keep = \"first\")\n",
    "    return df\n"
   ]
  },
  {
   "cell_type": "code",
   "execution_count": 40,
   "metadata": {},
   "outputs": [],
   "source": [
    "# Iterate over each department\n",
    "for i in [31, 33, 44, 69, 75]:\n",
    "    # Create an empty list to hold the DataFrames for each year\n",
    "    combined_df = []\n",
    "\n",
    "    # Iterate over each year\n",
    "    for j in range(2019, 2025):\n",
    "        # Read the CSV file for the specific department and year\n",
    "        df = pd.read_csv(\"../Data/datavis_data/data_vis_departments/\" + str(i) + \"/\" + str(i) + \"_\" + str(j) + \".csv\", low_memory=False)\n",
    "        \n",
    "        # Clean and transform the DataFrame using the previously defined function\n",
    "        df = clean_transform_dataframe(df)\n",
    "        \n",
    "        # Append the cleaned DataFrame to the list\n",
    "        combined_df.append(df)\n",
    "        \n",
    "    # Combine all DataFrames for the department into one DataFrame\n",
    "    combined_df = pd.concat(combined_df, ignore_index=True)\n",
    "    \n",
    "    # Save the combined cleaned DataFrame as a new CSV file\n",
    "    combined_df.to_csv(\"../Data/data_cleaned/\"+ str(i) + \"_cleaned.csv\", index=False)\n",
    "    "
   ]
  },
  {
   "cell_type": "markdown",
   "metadata": {},
   "source": [
    "## 2. Data Mining\n",
    "\n",
    "<p style=\"text-align: left; color: #555; font-size: 16px;\">\n",
    "    In this section, we will work with the cleaned data to extract relevant insights for our analysis.\n",
    "</p>\n"
   ]
  },
  {
   "cell_type": "code",
   "execution_count": 41,
   "metadata": {},
   "outputs": [],
   "source": [
    "# Loading CSV files into separate DataFrames\n",
    "df31 = pd.read_csv(\"../Data/data_cleaned/31_cleaned.csv\", low_memory = False)\n",
    "df33 = pd.read_csv(\"../Data/data_cleaned/33_cleaned.csv\", low_memory = False)\n",
    "df44 = pd.read_csv(\"../Data/data_cleaned/44_cleaned.csv\", low_memory = False)\n",
    "df69 = pd.read_csv(\"../Data/data_cleaned/69_cleaned.csv\", low_memory = False)\n",
    "df75 = pd.read_csv(\"../Data/data_cleaned/75_cleaned.csv\", low_memory = False)\n",
    "\n",
    "# Converting column \"date_mutation\" to datetime type. It seems that when reloading the dataframe, the type of this column is changed.\n",
    "df31[\"date_mutation\"] = pd.to_datetime(df31[\"date_mutation\"], format=\"%Y-%m-%d\")\n",
    "df33[\"date_mutation\"] = pd.to_datetime(df33[\"date_mutation\"], format=\"%Y-%m-%d\")\n",
    "df44[\"date_mutation\"] = pd.to_datetime(df44[\"date_mutation\"], format=\"%Y-%m-%d\")\n",
    "df69[\"date_mutation\"] = pd.to_datetime(df69[\"date_mutation\"], format=\"%Y-%m-%d\")\n",
    "df75[\"date_mutation\"] = pd.to_datetime(df75[\"date_mutation\"], format=\"%Y-%m-%d\")\n"
   ]
  },
  {
   "cell_type": "markdown",
   "metadata": {},
   "source": [
    "<p style=\"text-align: left; color: #555; font-size: 16px;\">\n",
    "    Statistics on our main variable <strong>valeur_fonciere</strong>.\n",
    "</p>\n",
    "  \n"
   ]
  },
  {
   "cell_type": "code",
   "execution_count": 42,
   "metadata": {},
   "outputs": [
    {
     "name": "stdout",
     "output_type": "stream",
     "text": [
      "31:\n",
      "       valeur_fonciere\n",
      "count     2.154240e+05\n",
      "mean      3.248121e+05\n",
      "std       1.114637e+06\n",
      "min       2.500000e-01\n",
      "25%       1.240000e+05\n",
      "50%       1.900000e+05\n",
      "75%       3.000000e+05\n",
      "max       8.040000e+07\n",
      "\n",
      "33:\n",
      "       valeur_fonciere\n",
      "count     2.347470e+05\n",
      "mean      4.309878e+05\n",
      "std       2.008234e+06\n",
      "min       1.800000e-01\n",
      "25%       1.610000e+05\n",
      "50%       2.500000e+05\n",
      "75%       4.000000e+05\n",
      "max       1.493280e+08\n",
      "\n",
      "44:\n",
      "       valeur_fonciere\n",
      "count     2.121160e+05\n",
      "mean      3.286008e+05\n",
      "std       1.106960e+06\n",
      "min       1.500000e-01\n",
      "25%       1.472926e+05\n",
      "50%       2.200000e+05\n",
      "75%       3.330000e+05\n",
      "max       6.276000e+07\n",
      "\n",
      "69:\n",
      "       valeur_fonciere\n",
      "count     2.855430e+05\n",
      "mean      4.902456e+05\n",
      "std       2.157501e+06\n",
      "min       1.500000e-01\n",
      "25%       1.650000e+05\n",
      "50%       2.550000e+05\n",
      "75%       4.000000e+05\n",
      "max       1.730360e+08\n",
      "\n",
      "75:\n",
      "       valeur_fonciere\n",
      "count     3.304390e+05\n",
      "mean      2.086743e+06\n",
      "std       1.661716e+07\n",
      "min       1.500000e-01\n",
      "25%       2.490000e+05\n",
      "50%       4.623000e+05\n",
      "75%       8.740000e+05\n",
      "max       7.620000e+08\n"
     ]
    }
   ],
   "source": [
    "print(\"31:\")\n",
    "print(df31[[\"valeur_fonciere\"]].describe())\n",
    "print(\"\\n33:\")\n",
    "print(df33[[\"valeur_fonciere\"]].describe())\n",
    "print(\"\\n44:\")\n",
    "print(df44[[\"valeur_fonciere\"]].describe())\n",
    "print(\"\\n69:\")\n",
    "print(df69[[\"valeur_fonciere\"]].describe())\n",
    "print(\"\\n75:\")\n",
    "print(df75[[\"valeur_fonciere\"]].describe())"
   ]
  },
  {
   "cell_type": "markdown",
   "metadata": {},
   "source": [
    "<p style=\"text-align: left; color: #555; font-size: 16px;\">\n",
    "In this cell, we will make some changes to our DataFrame:\n",
    "<ul>\n",
    "<li>Created a new <strong>month</strong> column by extracting the month from the <strong>date_mutation</strong> column.</li>\n",
    "<li>Created a new <strong>year</strong> column by extracting the yeaer from the <strong>date_mutation</strong> column.</li>\n",
    "\n",
    "</ul>\n",
    "</p>"
   ]
  },
  {
   "cell_type": "code",
   "execution_count": 43,
   "metadata": {},
   "outputs": [],
   "source": [
    "def get_month(dt):\n",
    "    # Return the month\n",
    "    return dt.month\n",
    "\n",
    "def get_year(dt):\n",
    "    # Return the year\n",
    "    return dt.year\n",
    "    \n",
    "# Apply the get_date function to extract the month from the \"date_mutation\" column    \n",
    "df31[\"month\"] = df31[\"date_mutation\"].map(get_month)\n",
    "df33[\"month\"] = df33[\"date_mutation\"].map(get_month)\n",
    "df44[\"month\"] = df44[\"date_mutation\"].map(get_month)\n",
    "df69[\"month\"] = df69[\"date_mutation\"].map(get_month)\n",
    "df75[\"month\"] = df75[\"date_mutation\"].map(get_month)\n",
    "\n",
    "\n",
    "# Apply the get_year function to extract the year from the \"date_mutation\" column\n",
    "df31[\"year\"] = df31[\"date_mutation\"].map(get_year)\n",
    "df33[\"year\"] = df33[\"date_mutation\"].map(get_year)\n",
    "df44[\"year\"] = df44[\"date_mutation\"].map(get_year)\n",
    "df69[\"year\"] = df69[\"date_mutation\"].map(get_year)\n",
    "df75[\"year\"] = df75[\"date_mutation\"].map(get_year)\n"
   ]
  },
  {
   "cell_type": "markdown",
   "metadata": {},
   "source": [
    "<p style=\"text-align: left; color: #555; font-size: 16px;\">\n",
    "    Statistics on the main variable <strong>valeur_fonciere</strong> by year and by department.\n",
    "</p>"
   ]
  },
  {
   "cell_type": "code",
   "execution_count": 44,
   "metadata": {},
   "outputs": [
    {
     "name": "stdout",
     "output_type": "stream",
     "text": [
      "31:\n",
      "     valeur_fonciere                                                          \\\n",
      "               count           mean           std   min        25%       50%   \n",
      "year                                                                           \n",
      "2019         20638.0  308274.554781  1.303748e+06  1.00  116368.75  177100.0   \n",
      "2020         40660.0  338202.438702  1.294673e+06  1.00  120000.00  183000.0   \n",
      "2021         50427.0  341338.073214  1.115173e+06  0.25  126900.00  195762.0   \n",
      "2022         49755.0  320610.098769  1.010169e+06  1.00  130000.00  200000.0   \n",
      "2023         38726.0  316052.973060  1.048314e+06  1.00  123832.50  193000.0   \n",
      "2024         15218.0  292729.317167  7.398966e+05  1.00  116200.00  179027.0   \n",
      "\n",
      "                             \n",
      "            75%         max  \n",
      "year                         \n",
      "2019  271396.42  46180800.0  \n",
      "2020  282000.00  80400000.0  \n",
      "2021  306000.00  39933792.0  \n",
      "2022  320000.00  49500000.0  \n",
      "2023  311500.00  44048640.0  \n",
      "2024  291950.00  19513148.0  \n",
      "\n",
      "33:\n",
      "     valeur_fonciere                                                         \\\n",
      "               count           mean           std   min       25%       50%   \n",
      "year                                                                          \n",
      "2019         22406.0  364144.331238  7.709002e+05  1.00  148235.0  225000.0   \n",
      "2020         39276.0  376808.158519  1.851339e+06  0.18  150000.0  230000.0   \n",
      "2021         55064.0  426619.228308  1.358385e+06  1.00  168000.0  260000.0   \n",
      "2022         57268.0  447296.162940  1.121145e+06  1.00  174530.0  270000.0   \n",
      "2023         44347.0  510318.079011  3.711645e+06  1.00  163000.0  255000.0   \n",
      "2024         16386.0  395237.507638  9.164577e+05  1.00  151000.0  236449.0   \n",
      "\n",
      "                             \n",
      "           75%          max  \n",
      "year                         \n",
      "2019  356362.5   24400000.0  \n",
      "2020  360000.0  149328000.0  \n",
      "2021  410200.0   81827416.0  \n",
      "2022  435000.0   34986256.0  \n",
      "2023  412500.0  144700000.0  \n",
      "2024  380000.0   28100000.0  \n",
      "\n",
      "44:\n",
      "     valeur_fonciere                                                         \\\n",
      "               count           mean           std   min       25%       50%   \n",
      "year                                                                          \n",
      "2019         21427.0  268040.369925  4.479739e+05  1.00  130000.0  191000.0   \n",
      "2020         36488.0  388785.278283  2.173591e+06  0.15  137000.0  205000.0   \n",
      "2021         48992.0  327865.273393  8.159518e+05  1.00  150000.0  225000.0   \n",
      "2022         49454.0  321355.165707  6.913395e+05  0.15  156400.0  235000.0   \n",
      "2023         39850.0  325588.718676  7.498048e+05  0.15  150100.0  225000.0   \n",
      "2024         15905.0  304458.168798  5.232970e+05  1.00  144488.0  218000.0   \n",
      "\n",
      "                            \n",
      "           75%         max  \n",
      "year                        \n",
      "2019  292950.0  21000000.0  \n",
      "2020  305383.0  43000000.0  \n",
      "2021  340000.0  23646000.0  \n",
      "2022  355000.0  62760000.0  \n",
      "2023  340000.0  34800000.0  \n",
      "2024  320000.0  17250000.0  \n",
      "\n",
      "69:\n",
      "     valeur_fonciere                                                         \\\n",
      "               count           mean           std   min       25%       50%   \n",
      "year                                                                          \n",
      "2019         30363.0  713906.088130  4.249131e+06  0.15  157260.0  242500.0   \n",
      "2020         52229.0  531430.416820  2.366152e+06  1.00  159900.0  246350.0   \n",
      "2021         67042.0  438497.178761  1.223496e+06  0.18  170000.0  260000.0   \n",
      "2022         65825.0  480803.133348  2.008115e+06  0.50  177230.0  270200.0   \n",
      "2023         50079.0  442223.446869  1.290407e+06  1.00  163625.0  258000.0   \n",
      "2024         20005.0  367963.081705  1.362918e+06  1.00  150000.0  231500.0   \n",
      "\n",
      "                             \n",
      "           75%          max  \n",
      "year                         \n",
      "2019  375500.0  135000000.0  \n",
      "2020  386900.0  165409536.0  \n",
      "2021  410000.0  149400000.0  \n",
      "2022  425000.0  153000000.0  \n",
      "2023  405000.0  173035968.0  \n",
      "2024  365650.0  118000000.0  \n",
      "\n",
      "75:\n",
      "     valeur_fonciere                                                        \\\n",
      "               count          mean           std   min       25%       50%   \n",
      "year                                                                         \n",
      "2019         31669.0  4.042268e+06  2.186112e+07  0.50  239000.0  471840.0   \n",
      "2020         48795.0  2.179906e+06  1.232327e+07  0.15  230000.0  456000.0   \n",
      "2021         69397.0  1.456603e+06  6.815549e+06  0.15  260000.0  477250.0   \n",
      "2022         82504.0  1.980161e+06  1.836273e+07  0.15  278000.0  490000.0   \n",
      "2023         67195.0  1.972755e+06  2.288801e+07  0.15  235000.0  439000.0   \n",
      "2024         30879.0  1.882954e+06  8.638488e+06  1.00  217000.0  410000.0   \n",
      "\n",
      "                             \n",
      "           75%          max  \n",
      "year                         \n",
      "2019  990000.0  612990460.0  \n",
      "2020  895000.0  419000000.0  \n",
      "2021  888300.0  276543840.0  \n",
      "2022  894000.0  606210300.0  \n",
      "2023  813150.0  762000000.0  \n",
      "2024  796500.0  255000000.0  \n"
     ]
    }
   ],
   "source": [
    "print(\"31:\")\n",
    "print(df31.groupby(\"year\")[[\"valeur_fonciere\"]].describe())\n",
    "print(\"\\n33:\")\n",
    "print(df33.groupby(\"year\")[[\"valeur_fonciere\"]].describe())\n",
    "print(\"\\n44:\")\n",
    "print(df44.groupby(\"year\")[[\"valeur_fonciere\"]].describe())\n",
    "print(\"\\n69:\")\n",
    "print(df69.groupby(\"year\")[[\"valeur_fonciere\"]].describe())\n",
    "print(\"\\n75:\")\n",
    "print(df75.groupby(\"year\")[[\"valeur_fonciere\"]].describe())\n"
   ]
  },
  {
   "cell_type": "markdown",
   "metadata": {},
   "source": [
    "<p style=\"text-align: left; color: #555; font-size: 16px;\">\n",
    "Creation of the variable <strong>valeur_fonciere_par_m2</strong> to compare real estate prices by taking into account only the surface area of ​​the properties.\n",
    "</p>"
   ]
  },
  {
   "cell_type": "code",
   "execution_count": 45,
   "metadata": {},
   "outputs": [],
   "source": [
    "df31[\"valeur_fonciere_par_m2\"] = df31[\"valeur_fonciere\"] / df31[\"surface_reelle_bati\"]\n",
    "df33[\"valeur_fonciere_par_m2\"] = df33[\"valeur_fonciere\"] / df33[\"surface_reelle_bati\"]\n",
    "df44[\"valeur_fonciere_par_m2\"] = df44[\"valeur_fonciere\"] / df44[\"surface_reelle_bati\"]\n",
    "df69[\"valeur_fonciere_par_m2\"] = df69[\"valeur_fonciere\"] / df69[\"surface_reelle_bati\"]\n",
    "df75[\"valeur_fonciere_par_m2\"] = df75[\"valeur_fonciere\"] / df75[\"surface_reelle_bati\"]"
   ]
  },
  {
   "cell_type": "markdown",
   "metadata": {},
   "source": [
    "<p style=\"text-align: left; color: #555; font-size: 16px;\">\n",
    "Statistical analysis of the <strong>valeur_fonciere_par_m2</strong> by year and by department to observe variations in prices per square meter over time and across different regions.\n",
    "</p>\n"
   ]
  },
  {
   "cell_type": "code",
   "execution_count": 46,
   "metadata": {},
   "outputs": [
    {
     "name": "stdout",
     "output_type": "stream",
     "text": [
      "31:\n",
      "     valeur_fonciere_par_m2                                                    \\\n",
      "                      count         mean           std       min          25%   \n",
      "year                                                                            \n",
      "2019                20638.0  4033.105869  16487.571191  0.000100  1809.980573   \n",
      "2020                40660.0  4764.448776  19328.337801  0.000169  1845.070423   \n",
      "2021                50427.0  4915.116470  22817.399339  0.000256  1909.090909   \n",
      "2022                49755.0  4238.530658  12663.151691  0.000133  2013.888889   \n",
      "2023                38726.0  4652.178939  28599.241506  0.000089  1922.535211   \n",
      "2024                15218.0  4725.519576  24993.089486  0.000586  1822.828341   \n",
      "\n",
      "                                              \n",
      "              50%          75%           max  \n",
      "year                                          \n",
      "2019  2528.129451  3427.240260  1.150000e+06  \n",
      "2020  2600.000000  3591.549296  1.132394e+06  \n",
      "2021  2740.659341  3800.791035  1.495000e+06  \n",
      "2022  2839.285714  3936.170213  8.500000e+05  \n",
      "2023  2806.252714  3880.597015  2.447147e+06  \n",
      "2024  2668.072480  3700.000000  1.219572e+06  \n",
      "\n",
      "33:\n",
      "     valeur_fonciere_par_m2                                                    \\\n",
      "                      count         mean           std       min          25%   \n",
      "year                                                                            \n",
      "2019                22406.0  4509.577525   9510.695352  0.000065  1937.500000   \n",
      "2020                39276.0  4980.141589  27263.671587  0.000252  1969.346154   \n",
      "2021                55064.0  5407.887628  18961.080123  0.000374  2177.981030   \n",
      "2022                57268.0  5758.865312  17848.361731  0.000110  2336.083744   \n",
      "2023                44347.0  6212.454066  40840.790583  0.000153  2243.589744   \n",
      "2024                16386.0  4890.428366  10207.354991  0.001379  2115.384615   \n",
      "\n",
      "                                              \n",
      "              50%          75%           max  \n",
      "year                                          \n",
      "2019  2971.221532  4244.166190  2.843750e+05  \n",
      "2020  3027.027027  4312.500000  2.331870e+06  \n",
      "2021  3363.254936  4825.152439  1.606164e+06  \n",
      "2022  3566.003868  5148.947037  1.089000e+06  \n",
      "2023  3461.538462  5060.232132  3.215556e+06  \n",
      "2024  3253.907204  4701.282051  3.141282e+05  \n",
      "\n",
      "44:\n",
      "     valeur_fonciere_par_m2                                                    \\\n",
      "                      count         mean           std       min          25%   \n",
      "year                                                                            \n",
      "2019                21427.0  3609.706237   7149.328076  0.000310  1794.117647   \n",
      "2020                36488.0  4948.354076  44686.792496  0.000015  1863.516746   \n",
      "2021                48992.0  4030.874637   9610.673763  0.000250  2037.500000   \n",
      "2022                49454.0  4362.142293  51314.345864  0.000185  2182.062354   \n",
      "2023                39850.0  4047.380327   8352.745561  0.000216  2131.147541   \n",
      "2024                15905.0  3946.735521   7321.023604  0.000397  2033.333333   \n",
      "\n",
      "                                              \n",
      "              50%          75%           max  \n",
      "year                                          \n",
      "2019  2557.377049  3531.848426  2.528571e+05  \n",
      "2020  2687.500000  3717.948718  4.777778e+06  \n",
      "2021  2960.526316  4100.000000  5.210000e+05  \n",
      "2022  3175.348164  4355.416667  1.123484e+07  \n",
      "2023  3048.182386  4198.473282  5.153846e+05  \n",
      "2024  2924.528302  3977.272727  2.450000e+05  \n",
      "\n",
      "69:\n",
      "     valeur_fonciere_par_m2                                                    \\\n",
      "                      count         mean           std       min          25%   \n",
      "year                                                                            \n",
      "2019                30363.0  9962.215109  67445.460703  0.000036  2399.201318   \n",
      "2020                52229.0  8273.389658  40330.526141  0.000113  2426.470588   \n",
      "2021                67042.0  6639.582891  22280.091191  0.000088  2601.999789   \n",
      "2022                65825.0  6795.579292  28640.619059  0.000084  2748.051948   \n",
      "2023                50079.0  7264.119040  30029.620620  0.000085  2571.428571   \n",
      "2024                20005.0  5487.913266  19774.752966  0.000330  2318.840580   \n",
      "\n",
      "                                              \n",
      "              50%          75%           max  \n",
      "year                                          \n",
      "2019  3507.352941  4922.301136  6.160559e+06  \n",
      "2020  3620.544118  5109.375000  3.321570e+06  \n",
      "2021  3842.457036  5416.112509  1.669996e+06  \n",
      "2022  4049.974684  5647.058824  3.431138e+06  \n",
      "2023  3875.581395  5368.421053  7.949600e+05  \n",
      "2024  3506.493506  4888.888889  1.710145e+06  \n",
      "\n",
      "75:\n",
      "     valeur_fonciere_par_m2                                         \\\n",
      "                      count          mean            std       min   \n",
      "year                                                                 \n",
      "2019                31669.0  83196.644838  982192.291421  0.002222   \n",
      "2020                48795.0  45733.838469  359084.364860  0.000625   \n",
      "2021                69397.0  29834.975582  177450.150264  0.000700   \n",
      "2022                82504.0  37200.408951  531640.986784  0.000902   \n",
      "2023                67195.0  40592.841843  693304.779594  0.000490   \n",
      "2024                30879.0  36053.531669  221146.684800  0.000728   \n",
      "\n",
      "                                                             \n",
      "              25%           50%           75%           max  \n",
      "year                                                         \n",
      "2019  7888.888889  10581.395349  14821.428571  1.489216e+08  \n",
      "2020  8000.000000  10909.090909  14444.444444  2.330000e+07  \n",
      "2021  8000.000000  11000.000000  15143.181818  1.891500e+07  \n",
      "2022  8116.609589  11037.037037  15843.818182  8.660147e+07  \n",
      "2023  7350.000000  10380.952381  15000.000000  9.525000e+07  \n",
      "2024  6767.441860   9785.714286  14500.000000  1.593750e+07  \n"
     ]
    }
   ],
   "source": [
    "print(\"31:\")\n",
    "print(df31.groupby(\"year\")[[\"valeur_fonciere_par_m2\"]].describe())\n",
    "print(\"\\n33:\")\n",
    "print(df33.groupby(\"year\")[[\"valeur_fonciere_par_m2\"]].describe())\n",
    "print(\"\\n44:\")\n",
    "print(df44.groupby(\"year\")[[\"valeur_fonciere_par_m2\"]].describe())\n",
    "print(\"\\n69:\")\n",
    "print(df69.groupby(\"year\")[[\"valeur_fonciere_par_m2\"]].describe())\n",
    "print(\"\\n75:\")\n",
    "print(df75.groupby(\"year\")[[\"valeur_fonciere_par_m2\"]].describe())"
   ]
  },
  {
   "cell_type": "markdown",
   "metadata": {},
   "source": [
    "## 3. Data Visualization\n",
    "<p style=\"text-align: left; color: #555; font-size: 16px;\">\n",
    "In this section, we will create data visualizations to highlight the relationships that may exist between different variables. The analysis will be structured progressively, allowing us to refine our observations and deepen our understanding of the interactions as the study advances.\n",
    "</p>\n",
    "\n"
   ]
  },
  {
   "cell_type": "markdown",
   "metadata": {},
   "source": [
    "### 3.1. Analysis of real estate transactions over time\n",
    "<p style=\"text-align: left; color: #555; font-size: 16px;\">\n",
    "In this section, we will analyze the number of transactions that took place during the months and years between 2019 and 2024. We will also examine the evolution of transaction numbers by the type of mutation.\n",
    "</p>\n",
    "\n",
    "\n"
   ]
  },
  {
   "cell_type": "markdown",
   "metadata": {},
   "source": [
    "<p style=\"text-align: left; color: #555; font-size: 16px;\">\n",
    "We display the number of transactions per department and per year using a bar chart.\n",
    "</p>\n",
    "\n"
   ]
  },
  {
   "cell_type": "code",
   "execution_count": 47,
   "metadata": {},
   "outputs": [
    {
     "data": {
      "image/png": "[encoded data removed]",
      "text/plain": [
       "<Figure size 1000x600 with 1 Axes>"
      ]
     },
     "metadata": {},
     "output_type": "display_data"
    }
   ],
   "source": [
    "# Calculation of the number of transactions per year for each department\n",
    "num_transaction_year_31 = df31.groupby(\"year\").size()  \n",
    "num_transaction_year_33 = df33.groupby(\"year\").size() \n",
    "num_transaction_year_44 = df44.groupby(\"year\").size()  \n",
    "num_transaction_year_69 = df69.groupby(\"year\").size()  \n",
    "num_transaction_year_75 = df75.groupby(\"year\").size()  \n",
    "\n",
    "plt.figure(figsize = (10, 6))\n",
    "years = df31[\"year\"].unique()  \n",
    "\n",
    "# Plot bars for each department with slight offsets for better visualization\n",
    "plt.bar(years - 0.3, num_transaction_year_31, width = 0.15, label = \"31\", alpha = 0.7, color = \"blue\")  \n",
    "plt.bar(years - 0.15, num_transaction_year_33, width = 0.15, label = \"33\", alpha = 0.7, color = \"red\")  \n",
    "plt.bar(years, num_transaction_year_44, width = 0.15, label = \"44\", alpha = 0.7, color = \"green\")  \n",
    "plt.bar(years + 0.15, num_transaction_year_69, width = 0.15, label = \"69\", alpha = 0.7, color = \"orange\")  \n",
    "plt.bar(years + 0.3, num_transaction_year_75, width = 0.15, label = \"75\", alpha = 0.7, color = \"purple\")\n",
    "\n",
    "# Set the title and axis labels for the plot\n",
    "plt.title(\"Number of transactions per year\", fontsize = 18)\n",
    "plt.xlabel(\"Year\", fontsize = 15)\n",
    "plt.ylabel(\"Number of transactions\", fontsize = 15)  \n",
    "\n",
    "# Display legend to differentiate departments\n",
    "plt.legend(title=\"Departments\", fontsize = 12)\n",
    "\n",
    "plt.show()"
   ]
  },
  {
   "cell_type": "markdown",
   "metadata": {},
   "source": [
    "<p style=\"text-align: left; color: #555; font-size: 16px;\">\n",
    "We compare the number of monthly transactions, by department, between the years 2019 and 2024.\n",
    "</p>"
   ]
  },
  {
   "cell_type": "code",
   "execution_count": 48,
   "metadata": {},
   "outputs": [
    {
     "data": {
      "application/vnd.jupyter.widget-view+json": {
       "model_id": "d9a91dff8a4543a8b0647515c28f286e",
       "version_major": 2,
       "version_minor": 0
      },
      "text/plain": [
       "interactive(children=(IntSlider(value=2024, description='Year', max=2024, min=2019), Output()), _dom_classes=(…"
      ]
     },
     "metadata": {},
     "output_type": "display_data"
    },
    {
     "data": {
      "text/plain": [
       "<function __main__.plot_transactions(year)>"
      ]
     },
     "execution_count": 48,
     "metadata": {},
     "output_type": "execute_result"
    }
   ],
   "source": [
    "# List of months for the x-axis\n",
    "months = [\"January\", \"February\", \"March\", \"April\", \"May\", \"June\", \"July\", \"August\", \"September\", \"October\", \"November\", \"December\"]\n",
    "month_num = list(range(1, 13))\n",
    "\n",
    "# Function to plot the transactions by year\n",
    "def plot_transactions(year):\n",
    "    # Count transactions for each department by month\n",
    "    num_transactions_31 = df31[df31[\"year\"] == year][\"month\"].value_counts().reindex(month_num)\n",
    "    num_transactions_33 = df33[df33[\"year\"] == year][\"month\"].value_counts().reindex(month_num)\n",
    "    num_transactions_44 = df44[df44[\"year\"] == year][\"month\"].value_counts().reindex(month_num)\n",
    "    num_transactions_69 = df69[df69[\"year\"] == year][\"month\"].value_counts().reindex(month_num)\n",
    "    num_transactions_75 = df75[df75[\"year\"] == year][\"month\"].value_counts().reindex(month_num)\n",
    "\n",
    "    # Bar width\n",
    "    bar_width = 0.15\n",
    "\n",
    "    plt.figure(figsize = (10, 6))\n",
    "\n",
    "    # Plot bars for each department\n",
    "    plt.bar([p - 0.3 for p in month_num], num_transactions_31.values, width = bar_width, color = \"blue\", alpha = 0.7, label = \"31\")\n",
    "    plt.bar([p - 0.15 for p in month_num], num_transactions_33.values, width = bar_width, color = \"red\", alpha = 0.7, label = \"33\")\n",
    "    plt.bar(month_num, num_transactions_44.values, width = bar_width, color = \"green\", alpha = 0.7, label = \"44\")\n",
    "    plt.bar([p + 0.15 for p in month_num], num_transactions_69.values, width = bar_width, color = \"orange\", alpha = 0.7, label = \"69\")\n",
    "    plt.bar([p + 0.3 for p in month_num], num_transactions_75.values, width = bar_width, color = \"purple\", alpha = 0.7, label = \"75\")\n",
    "\n",
    "    # Set the x-axis labels, title, and axis labels for the plot\n",
    "    plt.xticks(month_num, months, rotation = 45)\n",
    "    plt.title(f\"Number of transactions per month ({year})\", fontsize = 18)\n",
    "    plt.xlabel(\"Month\", fontsize = 15)\n",
    "    plt.ylabel(\"Number of transactions\", fontsize = 15)\n",
    "    \n",
    "    # Add a legend\n",
    "    plt.legend(title = \"Departments\", fontsize = 12)\n",
    "    \n",
    "    plt.show()\n",
    "\n",
    "# Interactive widget to choose the year\n",
    "year_slider = IntSlider(min = 2019, max = 2024, step = 1, value = 2024, description = \"Year\")\n",
    "interact(plot_transactions, year = year_slider)"
   ]
  },
  {
   "cell_type": "markdown",
   "metadata": {},
   "source": [
    "<p style=\"text-align: left; color: #555; font-size: 16px;\">\n",
    "The graph shows the number of transactions by <strong>nature_mutation</strong> for the years 2019 to 2024.\n",
    "</p>\n"
   ]
  },
  {
   "cell_type": "code",
   "execution_count": 49,
   "metadata": {},
   "outputs": [
    {
     "data": {
      "application/vnd.jupyter.widget-view+json": {
       "model_id": "3807091f6c9c49b4b3601480625aec13",
       "version_major": 2,
       "version_minor": 0
      },
      "text/plain": [
       "interactive(children=(IntSlider(value=2024, description='Year', max=2024, min=2019), Output()), _dom_classes=(…"
      ]
     },
     "metadata": {},
     "output_type": "display_data"
    },
    {
     "data": {
      "text/plain": [
       "<function __main__.plot_transactions_by_nature(year)>"
      ]
     },
     "execution_count": 49,
     "metadata": {},
     "output_type": "execute_result"
    }
   ],
   "source": [
    "# Function to plot the transactions by nature_mutation\n",
    "def plot_transactions_by_nature(year):\n",
    "    # Count transactions for each nature_mutation for each department in the given year\n",
    "    num_transactions_31 = df31[df31[\"year\"] == year][\"nature_mutation\"].value_counts()  \n",
    "    num_transactions_33 = df33[df33[\"year\"] == year][\"nature_mutation\"].value_counts()  \n",
    "    num_transactions_44 = df44[df44[\"year\"] == year][\"nature_mutation\"].value_counts()  \n",
    "    num_transactions_69 = df69[df69[\"year\"] == year][\"nature_mutation\"].value_counts()  \n",
    "    num_transactions_75 = df75[df75[\"year\"] == year][\"nature_mutation\"].value_counts()  \n",
    "\n",
    "    plt.figure(figsize=(10, 6))\n",
    "\n",
    "    # Create a DataFrame to store the number of transactions for each department\n",
    "    num_transactions_df = pd.DataFrame({\"31\": num_transactions_31, \"33\": num_transactions_33, \"44\": num_transactions_44, \"69\": num_transactions_69, \"75\": num_transactions_75})\n",
    "\n",
    "    # Plot a bar chart with the transaction counts for each department\n",
    "    num_transactions_df.plot(kind='bar', width=0.8, color = [\"blue\", \"red\", \"green\", \"orange\", \"purple\"], edgecolor = \"black\", alpha=0.7)\n",
    "\n",
    "    # title and labels\n",
    "    plt.title(f\"Number of transactions by \\\"nature_mutation\\\" ({year})\", fontsize=18)\n",
    "    plt.xlabel(\"Nature Mutation\", fontsize=15)\n",
    "    plt.ylabel(\"Number of transactions\", fontsize=15)\n",
    "    plt.xticks(rotation=45)\n",
    "    \n",
    "    # Display the legend \n",
    "    plt.legend(title=\"Departments\", fontsize=12)\n",
    "    \n",
    "    plt.show()\n",
    "\n",
    "# Interactive widget to choose the year\n",
    "year_slider = IntSlider(min=2019, max=2024, step=1, value=2024, description=\"Year\")  # Slider for year selection\n",
    "interact(plot_transactions_by_nature, year=year_slider)  # Create interactive plot"
   ]
  },
  {
   "cell_type": "markdown",
   "metadata": {},
   "source": [
    "### 3.2. Analysis of local attractiveness (by municipality)\n",
    "<p style=\"text-align: left; color: #555; font-size: 16px;\">\n",
    "In this section, we will examine the evolution of the number of transactions per municipality over the years, as well as the evolution of the price per m2 of the latter.\n",
    "</p>\n"
   ]
  },
  {
   "cell_type": "code",
   "execution_count": 50,
   "metadata": {},
   "outputs": [
    {
     "data": {
      "application/vnd.jupyter.widget-view+json": {
       "model_id": "5c5ff9ea9faf49c880a2d788d3f72816",
       "version_major": 2,
       "version_minor": 0
      },
      "text/plain": [
       "interactive(children=(IntSlider(value=2024, description='Year: ', max=2024, min=2019), Dropdown(description='D…"
      ]
     },
     "metadata": {},
     "output_type": "display_data"
    },
    {
     "data": {
      "text/plain": [
       "<function __main__.plot_top_municipalities(year, dep)>"
      ]
     },
     "execution_count": 50,
     "metadata": {},
     "output_type": "execute_result"
    }
   ],
   "source": [
    "# We store our dataframes in a dictionary with the department number as the key. \n",
    "# This will allow us to call the right dataframe based on the department passed as an argument to the function.\n",
    "dep_data = {31: df31, 33: df33, 44: df44, 69: df69, 75: df75}\n",
    "\n",
    "# Function to display, based on a year and a department, the 10 municipalities with the greatest number of transactions\n",
    "def plot_top_municipalities(year, dep):\n",
    "    \n",
    "    # Load the DataFrame corresponding to the department\n",
    "    df = dep_data[dep]\n",
    "    df_filtered = df[df[\"year\"] == year]\n",
    "\n",
    "    # Count the number of transactions per municipality\n",
    "    municipality_transactions = df_filtered[\"nom_commune\"].value_counts()\n",
    "    sorted_municipalities_10 = municipality_transactions.sort_values(ascending = False).head(10)\n",
    "    \n",
    "    # Create a horizontal bar chart\n",
    "    plt.figure(figsize = (10,3))\n",
    "    plt.barh(sorted_municipalities_10.index, sorted_municipalities_10.values, color=\"red\", edgecolor = \"black\", alpha=0.7)\n",
    "    \n",
    "    # Reverse the order of the municipalities to have the highest at the top\n",
    "    plt.gca().invert_yaxis()\n",
    "\n",
    "    # title and labels\n",
    "    plt.title(f\"Top 10 Municipalities with Highest Transactions ({year}, Department {dep})\", fontsize=16)\n",
    "    plt.xlabel(\"Number of Transactions\", fontsize = 12)\n",
    "    plt.ylabel(\"Municipality\", fontsize = 12)\n",
    "    plt.show()\n",
    "\n",
    "# Interactive widget to choose the year and department\n",
    "year_slider = IntSlider(min = 2019, max = 2024, step = 1, value = 2024, description = \"Year: \")\n",
    "department_selector = Dropdown(options = [31, 33, 44, 69, 75], value = 31, description = \"Department: \")\n",
    "interact(plot_top_municipalities, year = year_slider, dep = department_selector)\n"
   ]
  },
  {
   "cell_type": "markdown",
   "metadata": {},
   "source": [
    "<p style=\"text-align: left; color: #555; font-size: 16px;\">\n",
    "We have had an overview of the 10 municipalities with the most transactions. It would now be interesting to compare the average land value per square meter in these municipalities with that of the department.\n",
    "</p>\n",
    "\n"
   ]
  },
  {
   "cell_type": "code",
   "execution_count": 51,
   "metadata": {},
   "outputs": [
    {
     "data": {
      "application/vnd.jupyter.widget-view+json": {
       "model_id": "a5c302ccb8e448848ef618771b976c44",
       "version_major": 2,
       "version_minor": 0
      },
      "text/plain": [
       "interactive(children=(IntSlider(value=2024, description='Year: ', max=2024, min=2019), Dropdown(description='D…"
      ]
     },
     "metadata": {},
     "output_type": "display_data"
    },
    {
     "data": {
      "text/plain": [
       "<function __main__.plot_average_value_per_m2(year, dep)>"
      ]
     },
     "execution_count": 51,
     "metadata": {},
     "output_type": "execute_result"
    }
   ],
   "source": [
    "# We store our dataframes in a dictionary with the department number as the key. \n",
    "# This will allow us to call the right dataframe based on the department passed as an argument to the function.\n",
    "dep_data = {31: df31, 33: df33, 44: df44, 69: df69, 75: df75}\n",
    "\n",
    "# Function to display, based on a year and a department, the average land value per m2 for the 10 municipalities with the greatest number of transactions\n",
    "def plot_average_value_per_m2(year, dep):\n",
    "    \n",
    "    # Load the DataFrame corresponding to the department\n",
    "    df = dep_data[dep]\n",
    "    \n",
    "    # Filter the data for the selected year\n",
    "    df_filtered = df[df[\"year\"] == year]\n",
    "    \n",
    "    # Count the number of transactions per municipality\n",
    "    municipality_transactions = df_filtered[\"nom_commune\"].value_counts()\n",
    "    \n",
    "    # Select the top 10 municipalities with the highest number of transactions\n",
    "    top_10_municipalities = municipality_transactions.sort_values(ascending=False).head(10)\n",
    "    \n",
    "    # Calculate the average land value per m2 for these top 10 municipalities\n",
    "    municipalities_values_per_m2 = df_filtered[df_filtered[\"nom_commune\"].apply(lambda x: x in top_10_municipalities.index)]\n",
    "    average_values_per_m2 = municipalities_values_per_m2.groupby(\"nom_commune\")[\"valeur_fonciere_par_m2\"].mean()\n",
    "    \n",
    "    # Calculate the average land value per m2 for the entire department\n",
    "    department_avg_value_per_m2 = df_filtered[\"valeur_fonciere_par_m2\"].mean()\n",
    "    \n",
    "    # Sort municipalities by the average land value per m2\n",
    "    sorted_values_per_m2 = average_values_per_m2.sort_values(ascending = True)\n",
    "    \n",
    "    # horizontal bar chart\n",
    "    plt.figure(figsize = (10, 3))\n",
    "    plt.barh(sorted_values_per_m2.index, sorted_values_per_m2, color = \"lightgreen\", edgecolor = \"black\", alpha = 0.7)\n",
    "    \n",
    "    # Add a bar representing the average value for the entire department\n",
    "    plt.axvline(department_avg_value_per_m2, color = \"red\", linestyle = \"--\", label = \"Department Average\")\n",
    "    \n",
    "    # Add title and labels\n",
    "    plt.title(f\"Top 10 Municipalities with Highest Transactions ({year}, Department {dep}) -  Average Land Value per m2\", fontsize = 16)\n",
    "    plt.xlabel(\"Average Land Value per m2\", fontsize = 12)\n",
    "    plt.ylabel(\"Municipality\", fontsize = 12)\n",
    "    \n",
    "    # Add a legend\n",
    "    plt.legend()\n",
    "    \n",
    "    plt.show()\n",
    "\n",
    "# Interactive widget to choose the year and department\n",
    "year_slider = IntSlider(min = 2019, max = 2024, step = 1, value = 2024, description = \"Year: \")\n",
    "department_selector = Dropdown(options = [31, 33, 44, 69, 75], value = 31, description = \"Department: \")\n",
    "interact(plot_average_value_per_m2, year = year_slider, dep = department_selector)"
   ]
  },
  {
   "cell_type": "markdown",
   "metadata": {},
   "source": [
    "### 3.3. Analysis of Prices Based on the Number of Main Rooms\n",
    "\n",
    "<p style=\"text-align: left; color: #555; font-size: 16px;\">\n",
    "In this section, we will examine the relationship between property value and the number of main rooms over the period from 2019 to 2024.\n",
    "</p>\n",
    "\n",
    "\n"
   ]
  },
  {
   "cell_type": "code",
   "execution_count": 52,
   "metadata": {},
   "outputs": [
    {
     "data": {
      "application/vnd.jupyter.widget-view+json": {
       "model_id": "0030c3427d1e40f89fa0383f7bd7057d",
       "version_major": 2,
       "version_minor": 0
      },
      "text/plain": [
       "interactive(children=(IntSlider(value=2024, description='Year: ', max=2024, min=2019), Dropdown(description='D…"
      ]
     },
     "metadata": {},
     "output_type": "display_data"
    },
    {
     "data": {
      "text/plain": [
       "<function __main__.plot_average_price_per_rooms(year, department)>"
      ]
     },
     "execution_count": 52,
     "metadata": {},
     "output_type": "execute_result"
    }
   ],
   "source": [
    "# We store our DataFrames in a dictionary with the department number as the key.\n",
    "# This allows us to dynamically load the right DataFrame based on the department argument passed to the function.\n",
    "department_data = {31: df31, 33: df33, 44: df44, 69: df69, 75: df75}\n",
    "\n",
    "# Function to display the average price by number of rooms, by municipality, for a given year and department\n",
    "def plot_average_price_per_rooms(year, department):\n",
    "    \n",
    "    # Load the DataFrame corresponding to the selected department\n",
    "    df_filtered = department_data[department]\n",
    "    \n",
    "    # Filter data to only include rows matching the selected year\n",
    "    df_filtered = df_filtered[df_filtered[\"year\"] == year]\n",
    "    \n",
    "    # Calculate the number of transactions per municipality\n",
    "    commune_transactions = df_filtered[\"nom_commune\"].value_counts()\n",
    "    \n",
    "    # Select the 10 municipalities with the highest number of transactions\n",
    "    top_10_communes = commune_transactions.sort_values(ascending=False).head(10)\n",
    "    \n",
    "    # Filter the data to only include transactions from the top 10 municipalities\n",
    "    municipalities_filtered = df_filtered[df_filtered[\"nom_commune\"].apply(lambda x: x in top_10_communes.index)]\n",
    "    # Calculate the average price per number of rooms for each municipality\n",
    "    avg_price_per_rooms = municipalities_filtered.groupby([\"nom_commune\", \"nombre_pieces_principales\"])[\"valeur_fonciere\"].mean().reset_index()\n",
    "    \n",
    "    \n",
    "    plt.figure(figsize = (10, 4))\n",
    "    \n",
    "    # Plot the average price for each of the top 10 municipalities\n",
    "    for i in top_10_communes.index:\n",
    "        commune_data = avg_price_per_rooms[avg_price_per_rooms[\"nom_commune\"] == i].sort_values(by = \"nombre_pieces_principales\")\n",
    "        plt.plot(commune_data[\"nombre_pieces_principales\"], commune_data[\"valeur_fonciere\"], label = i, marker = 'o')\n",
    "    \n",
    "    # Add a title and labels\n",
    "    plt.title(f\"Average Price per Number of Main Rooms ({year}, Department {department}) - Top 10 Municipalities\", fontsize = 16)\n",
    "    plt.xlabel(\"Number of Main Rooms\", fontsize = 12)\n",
    "    plt.ylabel(\"Average Price\", fontsize = 12)\n",
    "    \n",
    "    # Add a legend\n",
    "    plt.legend()\n",
    "    \n",
    "    plt.show()\n",
    "\n",
    "# Interactive widget to choose the year and department\n",
    "year_slider = IntSlider(min = 2019, max = 2024, step = 1, value = 2024, description = \"Year: \")\n",
    "department_selector = Dropdown(options = [31, 33, 44, 69, 75], value = 31, description = \"Department: \")\n",
    "interact(plot_average_price_per_rooms, year = year_slider, department = department_selector)\n"
   ]
  },
  {
   "cell_type": "markdown",
   "metadata": {},
   "source": [
    "### 3.4. Geographic visualization\n",
    "\n",
    "<p style=\"text-align: left; color: #555; font-size: 16px;\">\n",
    "In this part, we will visualize the distribution of transactions in the departments.\n",
    "</p>\n"
   ]
  },
  {
   "cell_type": "code",
   "execution_count": 53,
   "metadata": {},
   "outputs": [
    {
     "data": {
      "application/vnd.jupyter.widget-view+json": {
       "model_id": "28caa01861ee42e9a7688bf7086be5ec",
       "version_major": 2,
       "version_minor": 0
      },
      "text/plain": [
       "interactive(children=(IntSlider(value=2024, description='Year: ', max=2024, min=2019), Dropdown(description='D…"
      ]
     },
     "metadata": {},
     "output_type": "display_data"
    },
    {
     "data": {
      "text/plain": [
       "<function __main__.plot_lon_lat(year, dep)>"
      ]
     },
     "execution_count": 53,
     "metadata": {},
     "output_type": "execute_result"
    }
   ],
   "source": [
    "# We store our DataFrames in a dictionary with the department number as the key.\n",
    "# This allows us to dynamically load the right DataFrame based on the department argument passed to the function.\n",
    "dep_data = {31: df31, 33: df33, 44: df44, 69: df69, 75: df75}\n",
    "\n",
    "def plot_lon_lat(year, dep):\n",
    "\n",
    "    df = dep_data[dep]\n",
    "    df_filtered = df[df[\"year\"] == year].loc[:, [\"longitude\", \"latitude\"]]\n",
    "    df_sampled = df_filtered.sample(frac = 0.1, random_state = 42)\n",
    "    \n",
    "    plt.figure(figsize=(10, 6))\n",
    "    sns.kdeplot(x = df_sampled[\"longitude\"], y = df_sampled[\"latitude\"], fill = True, cmap =\"YlOrRd\", thresh = 0.1, levels = 20)\n",
    "\n",
    "    plt.show()\n",
    "\n",
    "# Interactive widget to choose the year and department\n",
    "year_slider = IntSlider(min = 2019, max = 2024, step = 1, value = 2024, description = \"Year: \")\n",
    "dept_dropdown = Dropdown(options = [31, 33, 44, 69, 75], value = 31, description = \"Department: \")\n",
    "interact(plot_lon_lat, dep = dept_dropdown, year = year_slider)"
   ]
  },
  {
   "cell_type": "markdown",
   "metadata": {},
   "source": [
    "### 3.5. Investment based on the type of premises\n",
    "\n",
    "<p style=\"text-align: left; color: #555; font-size: 16px;\">\n",
    "In this section, we will look at the different types of premises in which it is possible to invest.\n",
    "</p>"
   ]
  },
  {
   "cell_type": "code",
   "execution_count": 54,
   "metadata": {},
   "outputs": [
    {
     "data": {
      "application/vnd.jupyter.widget-view+json": {
       "model_id": "64f240a1d97f46d1b494194d57f4408a",
       "version_major": 2,
       "version_minor": 0
      },
      "text/plain": [
       "interactive(children=(Dropdown(description='Department: ', options=(31, 33, 44, 69, 75), value=31), IntSlider(…"
      ]
     },
     "metadata": {},
     "output_type": "display_data"
    },
    {
     "data": {
      "text/plain": [
       "<function __main__.plot_local_types(dept, year)>"
      ]
     },
     "execution_count": 54,
     "metadata": {},
     "output_type": "execute_result"
    }
   ],
   "source": [
    "# We store our DataFrames in a dictionary with the department number as the key.\n",
    "# This allows us to dynamically load the right DataFrame based on the department argument passed to the function.\n",
    "department_data = {31: df31, 33: df33, 44: df44, 69: df69, 75: df75}\n",
    "\n",
    "# Function to plot local types for a municipality\n",
    "def plot_com(com, local_counts, year, dept):\n",
    "    # Filter data for the selected municipality\n",
    "    counts_com = local_counts.loc[com]\n",
    "    \n",
    "    # Create the plot\n",
    "    plt.figure(figsize = (10, 4))\n",
    "    counts_com.plot(kind = \"bar\", color = \"lightgreen\", alpha = 0.7)\n",
    "    \n",
    "    # Add title and labels\n",
    "    plt.title(f\"Local Types for Municipality {com} - {year} - Department {dept}\", fontsize = 18)\n",
    "    plt.xlabel(\"Local Type\", fontsize = 15)\n",
    "    plt.ylabel(\"Number of Locals\", fontsize = 15)\n",
    "    \n",
    "    plt.xticks(rotation = 45)\n",
    "    \n",
    "    plt.show()\n",
    "\n",
    "# Function to prepare data and create the plot local types\n",
    "def plot_local_types(dept, year):\n",
    "    # Load the DataFrame corresponding to the selected department\n",
    "    df_dep = department_data[dept]\n",
    "    \n",
    "    # Filter data to only include rows matching the selected year\n",
    "    df_dep_year = df_dep[df_dep[\"year\"] == year]\n",
    "    \n",
    "    # Count local types by municipality\n",
    "    counts = df_dep_year.groupby([\"nom_commune\", \"type_local\"]).size().reset_index(name = \"count\")\n",
    "    local_counts = counts.pivot(index = \"nom_commune\", columns = \"type_local\", values = \"count\")\n",
    "    \n",
    "    # Count transactions per municipality\n",
    "    commune_transactions = df_dep_year[\"nom_commune\"].value_counts()\n",
    "\n",
    "    # Get the top 10 municipalities by total number of transactions\n",
    "    top_10 = commune_transactions.sort_values(ascending = False).head(10)\n",
    "    \n",
    "    # Create a dropdown menu\n",
    "    com_dropdown = Dropdown(options = list(top_10.index), description = \"Municipality: \")\n",
    "    \n",
    "    # Display the dropdown menu for municipality selection\n",
    "    interact(lambda com: plot_com(com, local_counts, year, dept), com = com_dropdown)\n",
    "\n",
    "# Interactive widget to choose the year and department\n",
    "year_slider = IntSlider(min = 2019, max = 2024, step = 1, value = 2024, description = \"Year: \")\n",
    "dept_dropdown = Dropdown(options = [31, 33, 44, 69, 75], value = 31, description = \"Department: \")\n",
    "interact(plot_local_types, dept = dept_dropdown, year = year_slider)"
   ]
  },
  {
   "cell_type": "markdown",
   "metadata": {},
   "source": [
    "## 4. Recommendation and Conclusion "
   ]
  },
  {
   "cell_type": "markdown",
   "metadata": {},
   "source": [
    "### 4.1. Recommendation\n",
    "\n",
    "#### Analysis of Section **3.1**\n",
    "\n",
    "The charts in section **3.1** clearly show that the department **75** (Paris) overwhelmingly leads in terms of the number of transactions between 2019 and 2024. Although trailing behind, department **69** (Rhône) stands out as the second most active. Following in order are departments **33** (Gironde), **44** (Loire-Atlantique), and **31** (Haute-Garonne).  \n",
    "The second chart (monthly transactions) reveals that **August** is generally a low-activity month, especially in departments **69** and **75**. However, **June**, **July**, **September**, and **December** emerge as the months with the highest transaction volumes.  \n",
    "The third chart shows that **sales transactions** have dominated between 2019 and 2024. Additionally, this chart validates the attractiveness ranking of the departments: **75**, followed by **69**, **33**, **44**, and **31**.  \n",
    "\n",
    "Based on this analysis, we recommend investing during **August**, when competition is at its lowest. Additionally, investing in **April/May** could prepare for the expected peaks in **June/July**.  \n",
    "\n",
    "---\n",
    "\n",
    "#### Analysis of Section **3.2**\n",
    "\n",
    "The charts in section **3.2** refine our analysis by focusing on the attractiveness of municipalities within each department. For simplicity, we consider the **10 most attractive municipalities** per department for each year.  \n",
    "By analyzing the first and second charts of this section, we identify municipalities offering a good balance between attractiveness and average price per square meter:  \n",
    "\n",
    "- **75 (Paris)**: Paris 12th, Paris 17th, Paris 18th, Paris 20th  \n",
    "- **69 (Rhône)**: Lyon 8th, Lyon 9th, Villeurbanne  \n",
    "- **44 (Loire-Atlantique)**: Saint-Nazaire  \n",
    "- **33 (Gironde)**: Mérignac  \n",
    "- **31 (Haute-Garonne)**: X\n",
    "\n",
    "In general, the recommended districts in Paris represent safe investments due to their stable attractiveness and relatively steady price per square meter over time. For **Rhône**, while prices in Lyon and Villeurbanne were historically high, they have significantly decreased since 2022.  \n",
    "In the remaining departments, attractiveness is mainly concentrated in major cities such as Nantes, Bordeaux, and Toulouse. However, the price per square meter in these cities often exceeds Paris' maximum prices, making them less appealing. Notable exceptions include **Saint-Nazaire (44)** and **Mérignac (33)**, which offer strong attractiveness at reasonable prices.  \n",
    "\n",
    "The third chart of section **3.2** further improves our recommendations by examining the evolution of the average price by the number of main rooms. The results are as follows:  \n",
    "\n",
    "- **75 (Paris)**: Paris 12th, Paris 18th, Paris 20th  \n",
    "- **69 (Rhône)**: Lyon 8th, Villeurbanne  \n",
    "- **44 (Loire-Atlantique)**: Saint-Nazaire  \n",
    "- **33 (Gironde)**: Mérignac  \n",
    "- **31 (Haute-Garonne)**: X\n",
    "\n",
    "For all selected municipalities, prices tend to stabilize for properties with fewer than five main rooms. At this stage, we recommend focusing on **dependencies** or **apartments** for investment.  \n",
    "\n",
    "---\n",
    "\n",
    "#### Analysis of Section **3.5**\n",
    "\n",
    "Finally, by analyzing the third chart in section **3.5**, we refine our recommendations based on the type of property. The results are as follows:  \n",
    "\n",
    "- **75 (Paris)**:  \n",
    "  - Paris 12th: Dependency  \n",
    "  - Paris 18th: Apartment  \n",
    "  - Paris 20th: Apartment  \n",
    "- **69 (Rhône)**:  \n",
    "  - Lyon 8th: Dependency  \n",
    "  - Villeurbanne: Dependency  \n",
    "- **44 (Loire-Atlantique)**:  \n",
    "  - Saint-Nazaire: Dependency  \n",
    "- **33 (Gironde)**:  \n",
    "  - Mérignac: Dependency  \n",
    "\n",
    "The above results represent the optimal investment choices in France, based on our analysis.\n",
    "\n",
    "### 4.2. Conclusion\n",
    "\n",
    "Based on our analysis of the real estate data, we recommend investing in the most attractive departments in terms of transactions: **75** (Paris), **69** (Rhône), **33** (Gironde), **44** (Loire-Atlantique), and **31** (Haute-Garonne). The best time to invest would be during the months of **June, July, September**, and **December**, with a particular focus on **August**, when competition is lowest. In terms of location, the most promising areas are **Paris 12th**, **Paris 18th**, **Lyon 8th**, **Villeurbanne**, and **Mérignac**. Regarding the type of property, it is recommended to invest in **dependances** or **apartments**, as prices per square meter remain relatively stable in these segments. These investment choices maximize profitability while minimizing risks.\n"
   ]
  }
 ],
 "metadata": {
  "kernelspec": {
   "display_name": "base",
   "language": "python",
   "name": "python3"
  },
  "language_info": {
   "codemirror_mode": {
    "name": "ipython",
    "version": 3
   },
   "file_extension": ".py",
   "mimetype": "text/x-python",
   "name": "python",
   "nbconvert_exporter": "python",
   "pygments_lexer": "ipython3",
   "version": "3.12.3"
  }
 },
 "nbformat": 4,
 "nbformat_minor": 4
}
